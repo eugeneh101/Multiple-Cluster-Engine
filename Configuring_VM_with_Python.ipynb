{
 "cells": [
  {
   "cell_type": "markdown",
   "metadata": {},
   "source": [
    "## Installing Python 3 with Anaconda\n",
    "Here's a bash script to set up the environment. It's just a regular Linux instance (Ubuntu Server 16.04 LTS - ami-66506c1c) with Anaconda's Python 3, Jupyter Notebook, git, and htop installed. Presumably, you can get an Azure Ubuntu instance and run the same bash script.  \n",
    "\n",
    "1) Start your AWS instance.  \n",
    "2) After your instance starts, under \"INSTANCES\" click on \"Instances\" button to see all your instances.  \n",
    "3) On the far right side (you probably have to scroll to the right side), under the \"Security Group\" tab, click on your instance, which will probably say \"launch-wizard-xx\".  \n",
    "4) At the bottom of the screen, click \"Inbound\" tab, then \"Edit\", and then \"Add Rule\".  Set Port Range to be ```8888``` and the Source is ```0.0.0.0/0```  \n",
    "The point of this is to allow your local computer to connect to the remote VM through Jupyter Notebook.  \n",
    "5) After ssh-ing into your instance, run the following bash commands. You can simply copy and paste the whole thing at once though line by line is probably safer. Or you can save to a bash script and run it from Terminal.\n",
    "\n",
    "```bash\n",
    "wget https://repo.continuum.io/archive/Anaconda3-5.1.0-Linux-x86_64.sh -P /home/ubuntu # actually is Python 3.6.4  \n",
    "bash Anaconda3-5.1.0-Linux-x86_64.sh -b\n",
    "echo 'export PATH=\"/home/ubuntu/anaconda3/bin:$PATH\"' >> ~/.bashrc # append PATH variable so Terminal knows where to look when you use ipython or Jupyter Notebook   \n",
    "source ~/.bashrc # have the Terminal recognize \"python\"\n",
    "rm Anaconda3-5.1.0-Linux-x86_64.sh # delete the now unnecessary bash script\n",
    "\n",
    "conda update -y conda\n",
    "conda install -y ipyparallel tqdm # tqdm is a cool library to show a progress meter\n",
    "\n",
    "sudo apt-get update && sudo apt-get install -y git htop\n",
    "\n",
    "```\n",
    "#### Installing Python 2 as Conda Environment\n",
    "If you want both Python 3 and 2, you can use a virtual environment. I personally prefer conda environment which is easier to use (allows both conda and pip installs)\n",
    "```bash\n",
    "conda create -y -n py27 python=2.7 anaconda # to install Python 2 if Python 3 already exists  \n",
    "source activate py27 # to turn on the Python 2 kernel\n",
    "# you have to install all the extra libraries you use (ipyparallel, tqdm) while you are in Python 2.7 environment\n",
    "source deactivate # to turn off Python 2 kernel  \n",
    "```"
   ]
  },
  {
   "cell_type": "markdown",
   "metadata": {},
   "source": [
    "## Jupyter Notebook\n",
    "To turn on Jupyter Notebook, just type the following into the Terminal\n",
    "```jupyter notebook --no-browser --ip=0.0.0.0``` \n",
    "Then go to your favorite browser (I use Chrome) and enter in the <VM_ip_address_here>:8888, so it might look like something like this: ```http://34.228.68.249:8888```  \n",
    "If you want a more secure way of connecting to Jupyter Notebook (like non-public ports), you'll have to ask Aaditya for advice! The good thing is that when Python 3's Jupyter Notebook starts up, it prints a password token, which you copy and paste into the browser for Jupyter Notebook. Python 2's Jupyter Notebook does not have this token password. I use ```tmux``` when I use Jupyter Notebook to make sure I don't accidentally stop the notebook server. \n",
    "\n",
    "\n",
    "#### Caveat\n",
    "If you ever get problems with matploblib, then restart your kernal.\n",
    "Run these 2 matplotlib lines first BEFORE any other code. Then, everything should be fine:  \n",
    "```\n",
    "import matplotlib.pyplot as plt  \n",
    "%matplotlib inline\n",
    "```"
   ]
  }
 ],
 "metadata": {
  "kernelspec": {
   "display_name": "Python 3",
   "language": "python",
   "name": "python3"
  },
  "language_info": {
   "codemirror_mode": {
    "name": "ipython",
    "version": 3
   },
   "file_extension": ".py",
   "mimetype": "text/x-python",
   "name": "python",
   "nbconvert_exporter": "python",
   "pygments_lexer": "ipython3",
   "version": "3.6.4"
  }
 },
 "nbformat": 4,
 "nbformat_minor": 2
}
