{
 "cells": [
  {
   "cell_type": "code",
   "execution_count": null,
   "metadata": {
    "collapsed": true
   },
   "outputs": [],
   "source": [
    "!ipcluster start --n=4 --profile=mycluster1"
   ]
  },
  {
   "cell_type": "code",
   "execution_count": null,
   "metadata": {
    "collapsed": true
   },
   "outputs": [],
   "source": [
    "# figure out the start and kill cluster at the end\n",
    "# threading for RAM usage"
   ]
  },
  {
   "cell_type": "code",
   "execution_count": null,
   "metadata": {
    "collapsed": true
   },
   "outputs": [],
   "source": []
  },
  {
   "cell_type": "code",
   "execution_count": null,
   "metadata": {
    "collapsed": true
   },
   "outputs": [],
   "source": [
    "def decorator_1(func):\n",
    "    def func_wrapper(x):\n",
    "        print('dec1')\n",
    "        func(x)\n",
    "        print('dec1')\n",
    "    return func_wrapper\n",
    "\n",
    "def decorator_2(func):\n",
    "    def func_wrapper(x):\n",
    "        print('dec2')\n",
    "        func(x)\n",
    "        print('dec2')\n",
    "    return func_wrapper\n",
    "\n",
    "@decorator_2\n",
    "@decorator_1\n",
    "def function_a(x):\n",
    "    print(x)\n",
    "\n",
    "function_a(1)"
   ]
  },
  {
   "cell_type": "code",
   "execution_count": 6,
   "metadata": {},
   "outputs": [
    {
     "data": {
      "text/plain": [
       "0"
      ]
     },
     "execution_count": 6,
     "metadata": {},
     "output_type": "execute_result"
    }
   ],
   "source": [
    "import os\n",
    "\n",
    "os.system(\"ipcluster start --n=4 --profile=mycluster0 --daemonize\")"
   ]
  },
  {
   "cell_type": "code",
   "execution_count": null,
   "metadata": {
    "scrolled": true
   },
   "outputs": [],
   "source": []
  },
  {
   "cell_type": "code",
   "execution_count": null,
   "metadata": {},
   "outputs": [],
   "source": []
  },
  {
   "cell_type": "code",
   "execution_count": null,
   "metadata": {},
   "outputs": [],
   "source": []
  },
  {
   "cell_type": "code",
   "execution_count": null,
   "metadata": {
    "collapsed": true
   },
   "outputs": [],
   "source": []
  },
  {
   "cell_type": "code",
   "execution_count": null,
   "metadata": {
    "collapsed": true
   },
   "outputs": [],
   "source": [
    "# engine "
   ]
  },
  {
   "cell_type": "code",
   "execution_count": null,
   "metadata": {
    "collapsed": true
   },
   "outputs": [],
   "source": []
  },
  {
   "cell_type": "code",
   "execution_count": null,
   "metadata": {
    "collapsed": true
   },
   "outputs": [],
   "source": [
    "# each cluster will have to decorate the mapper/reducer?"
   ]
  },
  {
   "cell_type": "code",
   "execution_count": null,
   "metadata": {
    "collapsed": true
   },
   "outputs": [],
   "source": [
    "after each map/reducer step, use gc.collect()\n",
    "# figure out how to send to larger cluster? It appears that's not as important.\n",
    "# Previously, we sent large files to large cluster because of making sure RAM usage is fine.\n",
    "# Now, the cluster will kill itself if RAM usage is exceeded. However, now loss of cluster.\n",
    "# Hmm, ideally still sent large file to large cluster"
   ]
  },
  {
   "cell_type": "code",
   "execution_count": null,
   "metadata": {
    "collapsed": true
   },
   "outputs": [],
   "source": [
    "# RAM usage is heavier in Python 3 than Python 2; though Python 3 memory management is better"
   ]
  },
  {
   "cell_type": "code",
   "execution_count": null,
   "metadata": {
    "collapsed": true
   },
   "outputs": [],
   "source": []
  },
  {
   "cell_type": "code",
   "execution_count": null,
   "metadata": {
    "collapsed": true
   },
   "outputs": [],
   "source": [
    "# suppose we have equal sized clusters, how to distribute load?\n",
    "# write about where to do it queue or have large/small cluster distinction"
   ]
  },
  {
   "cell_type": "code",
   "execution_count": null,
   "metadata": {
    "collapsed": true
   },
   "outputs": [],
   "source": [
    "# SSD for parallel reading (not HDD); determine if you are IO constrained"
   ]
  },
  {
   "cell_type": "code",
   "execution_count": 19,
   "metadata": {
    "collapsed": true
   },
   "outputs": [],
   "source": [
    "# MCE works on files. Hence, if you don't have any datafiles, then just create some empty files"
   ]
  },
  {
   "cell_type": "code",
   "execution_count": null,
   "metadata": {
    "collapsed": true
   },
   "outputs": [],
   "source": []
  },
  {
   "cell_type": "code",
   "execution_count": 33,
   "metadata": {},
   "outputs": [],
   "source": []
  },
  {
   "cell_type": "code",
   "execution_count": 11,
   "metadata": {},
   "outputs": [],
   "source": [
    "# create some fake files\n",
    "for i in range(10):\n",
    "    !touch {i}.tmp"
   ]
  },
  {
   "cell_type": "code",
   "execution_count": null,
   "metadata": {},
   "outputs": [],
   "source": []
  },
  {
   "cell_type": "code",
   "execution_count": null,
   "metadata": {},
   "outputs": [],
   "source": []
  },
  {
   "cell_type": "code",
   "execution_count": 44,
   "metadata": {},
   "outputs": [],
   "source": [
    "def temp_f(name1):\n",
    "    print('hello {}'.format(name1))\n",
    "\n",
    "def mapper_f(kwargs):\n",
    "    return temp_f(**kwargs)"
   ]
  },
  {
   "cell_type": "code",
   "execution_count": 49,
   "metadata": {},
   "outputs": [
    {
     "name": "stdout",
     "output_type": "stream",
     "text": [
      "hello lee\n",
      "hello lee\n"
     ]
    }
   ],
   "source": [
    "mapper_f({'name1': 'lee'})\n",
    "(lambda kwargs: temp_f(**kwargs))({'name1': 'lee'})"
   ]
  },
  {
   "cell_type": "code",
   "execution_count": 51,
   "metadata": {},
   "outputs": [],
   "source": [
    "import copy\n",
    "\n",
    "temp_dict = copy.deepcopy({'a': 'b'})\n",
    "temp_dict.update({'c': 'd'})\n",
    "temp_dict"
   ]
  },
  {
   "cell_type": "code",
   "execution_count": null,
   "metadata": {},
   "outputs": [],
   "source": []
  },
  {
   "cell_type": "code",
   "execution_count": null,
   "metadata": {},
   "outputs": [],
   "source": []
  },
  {
   "cell_type": "code",
   "execution_count": 1,
   "metadata": {},
   "outputs": [],
   "source": [
    "import time\n",
    "import os\n",
    "import ipyparallel as ipp\n",
    "from collections import defaultdict\n",
    "from tqdm import tqdm\n",
    "import itertools\n",
    "from datetime import datetime\n",
    "        \n",
    "class MultipleClusterEnginePrototype(object):\n",
    "    def __init__(self, cluster_name, n_cpus_list, file_names, function_to_process, function_args_dict): # always put it in as a dictionary\n",
    "        self.cluster_name = cluster_name\n",
    "        self.n_cpus_list = n_cpus_list\n",
    "        self.file_names = file_names\n",
    "        self.function_to_process = lambda kwargs: function_to_process(**kwargs)\n",
    "        self.function_args_dict = function_args_dict\n",
    "\n",
    "        # used by engine\n",
    "        self.client_dict = {}\n",
    "        self.load_balanced_view_dict = {}\n",
    "        self.async_results_dict = defaultdict(list) # collects all the async_results\n",
    "        self.cluster_indexes = None\n",
    "        \n",
    "    def start_cluster(self, n_cpus, cluster_id):\n",
    "        print('\\tAttempting to start {}{} with {} CPUs'.format(self.cluster_name, cluster_id, n_cpus))\n",
    "        os.system(\"ipcluster start --n={} --profile={}{} --daemonize\".format(\n",
    "            n_cpus, self.cluster_name, cluster_id)) # should deprecate to use a safer bash call\n",
    "\n",
    "        attempt_ctr = 0 \n",
    "        while attempt_ctr < 3: # Attempt to connect to client 3 times\n",
    "            time.sleep(10) # hard coded\n",
    "            try:\n",
    "                client = ipp.Client(profile='{}{}'.format(self.cluster_name, cluster_id))\n",
    "            except ipp.error.TimeoutError:\n",
    "                attempt_ctr += 1\n",
    "            else:\n",
    "                print('\\t\\tCPU processes ready for action: {}'.format(client[:].apply_async(os.getpid).get()))\n",
    "                return client\n",
    "            # if there is any other error other than TimeoutError, then the error will be raised\n",
    "    \n",
    "    def start_all_clusters(self):\n",
    "        print('\\nAttempting to start all clusters')\n",
    "        for cluster_id, n_cpus in enumerate(self.n_cpus_list):\n",
    "            self.client_dict[cluster_id] = self.start_cluster(n_cpus, cluster_id)\n",
    "            self.load_balanced_view_dict[cluster_id] = self.client_dict[cluster_id].load_balanced_view()            \n",
    "        print('All clusters started\\n')\n",
    "        self.cluster_indexes = itertools.cycle(sorted(self.load_balanced_view_dict))\n",
    "        \n",
    "    def kill_cluster(self, cluster_id): # use better arguments\n",
    "        # client = client_list[cluster_id]\n",
    "        print('\\tAttempting to kill {}{} with CPU processes: {}'.format(\n",
    "            self.cluster_name, cluster_id, self.client_dict[cluster_id][:].apply_async(os.getpid).get()))\n",
    "        self.load_balanced_view_dict.pop(cluster_id)\n",
    "        # client.purge_everything()\n",
    "        self.client_dict[cluster_id].close()\n",
    "        os.system('ipcluster stop --profile={}{}'.format(self.cluster_name, cluster_id))\n",
    "        print('\\t\\tCluster successfully killed')\n",
    "        time.sleep(5) # hard-coded\n",
    "        # have to mutate cluster_indexes\n",
    "        \n",
    "    def kill_all_clusters(self):\n",
    "        print('\\nAttempting to kill all clusters')\n",
    "        for cluster_id in self.client_dict:\n",
    "            self.kill_cluster(cluster_id)\n",
    "        print('All clusters have been killed\\n')\n",
    "        \n",
    "    def run_clusters(self):        \n",
    "        small_file_ctr = 1 # determine if you want to have queue or differently ordered queue\n",
    "        big_file_ctr = 0\n",
    "        \n",
    "\n",
    "        for ith_file in tqdm(range(len(self.file_names))):\n",
    "            for jth_cluster in self.cluster_indexes: # infinite loop\n",
    "                time.sleep(1) # hard coded delay time; want to do expected log time lag / number of clusters\n",
    "                ### insert code here to kill cluster if RAM usage too great, if possible log which file it was processing;\n",
    "                ### it has to do a global search of all clusters' RAM usage\n",
    "                ### would need a dictionary here to remember which cluster has which file; write to disk\n",
    "                ### profiler would also write to disk CPU usage what level\n",
    "\n",
    "                if (not self.async_results_dict[jth_cluster][-1:] \n",
    "                    or self.async_results_dict[jth_cluster][-1].done()): # check if cluster i is available                       \n",
    "                    # if necessary, recreate engine here\n",
    "                    if jth_cluster == 0: # Send large files to large cluster (ALWAYS has id == 0)\n",
    "                        index = big_file_ctr\n",
    "                        big_file_ctr += 1\n",
    "                    else: # Send small files to small clusters (ALWAYS have id > 0)\n",
    "                        index = -small_file_ctr\n",
    "                        small_file_ctr += 1\n",
    "                                              \n",
    "                                     \n",
    "                    # clear cluster memory \n",
    "\n",
    "                    # package_arguments\n",
    "                    args = {} + function_args_dict\n",
    "                    \n",
    "                    \n",
    "                    ### insert code to write results to file--it will only have start times, no end times\n",
    "                    async_result = self.load_balanced_view_dict[jth_cluster].map_async(\n",
    "                            self.function_to_process, # function name\n",
    "                            [self.file_names[index]] * len(self.client_dict[jth_cluster].ids), # file name, assumes first argument is always file name\n",
    "                            # [len(client_list[i].ids)] * len(client_list[i].ids), # number of CPUs, assumes second argument is always number of CPUs\n",
    "                            #  client_list[i].ids # CPU ids, assumes third argument is always CPU id; actually turn into kwargs\n",
    "                             # [output_folder_name] * len(client_list[i].ids) # assumes fourth argument is output directory\n",
    "                            [self.function_args_dict] * len(self.client_dict[jth_cluster].ids)\n",
    "                            )\n",
    "                                              \n",
    "                    self.async_results_dict[jth_cluster].append(async_result)\n",
    "                    print(\"{} is the {}th file and is sent to {}{} for processing\".format(self.file_names[index], ith_file, self.cluster_name, jth_cluster))\n",
    "                    break # break out of inner loop to determine if other clusters are available\n",
    "        # async_results_dict; save to disk for later inspection?\n",
    "        \n",
    "    def main(self):\n",
    "        start_time = datetime.now()\n",
    "        print('\\nStarting Multiple Cluster Engine at {}\\n'.format(start_time))\n",
    "        self.start_all_clusters()\n",
    "        self.run_clusters()\n",
    "        self.kill_all_clusters()\n",
    "        end_time = datetime.now()\n",
    "        print('\\nMultiple Cluster Engine shut down at {}'.format(end_time))\n",
    "        print('Total run time is {} minutes\\n'.format((end_time - start_time).seconds / 60))"
   ]
  },
  {
   "cell_type": "code",
   "execution_count": 7,
   "metadata": {},
   "outputs": [
    {
     "name": "stdout",
     "output_type": "stream",
     "text": [
      "bobbypee-a-boo!"
     ]
    }
   ],
   "source": [
    "!cat 0.tmp"
   ]
  },
  {
   "cell_type": "code",
   "execution_count": 6,
   "metadata": {},
   "outputs": [],
   "source": [
    "fun_func('0.tmp', **{'save_string_to_file': 'pee-a-boo!'})"
   ]
  },
  {
   "cell_type": "code",
   "execution_count": null,
   "metadata": {},
   "outputs": [],
   "source": []
  },
  {
   "cell_type": "code",
   "execution_count": 2,
   "metadata": {},
   "outputs": [
    {
     "name": "stdout",
     "output_type": "stream",
     "text": [
      "\n",
      "Starting Multiple Cluster Engine at 2018-02-24 01:00:03.373128\n",
      "\n",
      "\n",
      "Attempting to start all clusters\n",
      "\tAttempting to start mycluster0 with 4 CPUs\n",
      "\t\tCPU processes ready for action: [8442, 8444, 8446, 8450]\n",
      "\tAttempting to start mycluster1 with 3 CPUs\n",
      "\t\tCPU processes ready for action: [8513, 8515, 8517]\n",
      "\tAttempting to start mycluster2 with 2 CPUs\n"
     ]
    },
    {
     "name": "stderr",
     "output_type": "stream",
     "text": [
      "\r",
      "  0%|          | 0/10 [00:00<?, ?it/s]"
     ]
    },
    {
     "name": "stdout",
     "output_type": "stream",
     "text": [
      "\t\tCPU processes ready for action: [8573, 8575]\n",
      "All clusters started\n",
      "\n"
     ]
    },
    {
     "name": "stderr",
     "output_type": "stream",
     "text": [
      "\r",
      " 10%|█         | 1/10 [00:01<00:09,  1.00s/it]"
     ]
    },
    {
     "name": "stdout",
     "output_type": "stream",
     "text": [
      "0.tmp is the 0th file and is sent to mycluster0 for processing\n"
     ]
    },
    {
     "name": "stderr",
     "output_type": "stream",
     "text": [
      "\r",
      " 20%|██        | 2/10 [00:02<00:08,  1.00s/it]"
     ]
    },
    {
     "name": "stdout",
     "output_type": "stream",
     "text": [
      "9.tmp is the 1th file and is sent to mycluster1 for processing\n"
     ]
    },
    {
     "name": "stderr",
     "output_type": "stream",
     "text": [
      "\r",
      " 30%|███       | 3/10 [00:03<00:07,  1.00s/it]"
     ]
    },
    {
     "name": "stdout",
     "output_type": "stream",
     "text": [
      "8.tmp is the 2th file and is sent to mycluster2 for processing\n"
     ]
    },
    {
     "name": "stderr",
     "output_type": "stream",
     "text": [
      "\r",
      " 40%|████      | 4/10 [00:04<00:06,  1.00s/it]"
     ]
    },
    {
     "name": "stdout",
     "output_type": "stream",
     "text": [
      "1.tmp is the 3th file and is sent to mycluster0 for processing\n"
     ]
    },
    {
     "name": "stderr",
     "output_type": "stream",
     "text": [
      "\r",
      " 50%|█████     | 5/10 [00:05<00:05,  1.00s/it]"
     ]
    },
    {
     "name": "stdout",
     "output_type": "stream",
     "text": [
      "7.tmp is the 4th file and is sent to mycluster1 for processing\n"
     ]
    },
    {
     "name": "stderr",
     "output_type": "stream",
     "text": [
      "\r",
      " 60%|██████    | 6/10 [00:06<00:04,  1.00s/it]"
     ]
    },
    {
     "name": "stdout",
     "output_type": "stream",
     "text": [
      "6.tmp is the 5th file and is sent to mycluster2 for processing\n"
     ]
    },
    {
     "name": "stderr",
     "output_type": "stream",
     "text": [
      "\r",
      " 70%|███████   | 7/10 [00:07<00:03,  1.00s/it]"
     ]
    },
    {
     "name": "stdout",
     "output_type": "stream",
     "text": [
      "2.tmp is the 6th file and is sent to mycluster0 for processing\n"
     ]
    },
    {
     "name": "stderr",
     "output_type": "stream",
     "text": [
      "\r",
      " 80%|████████  | 8/10 [00:08<00:02,  1.00s/it]"
     ]
    },
    {
     "name": "stdout",
     "output_type": "stream",
     "text": [
      "5.tmp is the 7th file and is sent to mycluster1 for processing\n"
     ]
    },
    {
     "name": "stderr",
     "output_type": "stream",
     "text": [
      "\r",
      " 90%|█████████ | 9/10 [00:09<00:01,  1.00s/it]"
     ]
    },
    {
     "name": "stdout",
     "output_type": "stream",
     "text": [
      "4.tmp is the 8th file and is sent to mycluster2 for processing\n"
     ]
    },
    {
     "name": "stderr",
     "output_type": "stream",
     "text": [
      "\r",
      "100%|██████████| 10/10 [00:10<00:00,  1.00s/it]"
     ]
    },
    {
     "name": "stdout",
     "output_type": "stream",
     "text": [
      "3.tmp is the 9th file and is sent to mycluster0 for processing\n",
      "\n",
      "Attempting to kill all clusters\n",
      "\tAttempting to kill mycluster0 with CPU processes: [8442, 8444, 8446, 8450]\n"
     ]
    },
    {
     "name": "stderr",
     "output_type": "stream",
     "text": [
      "\n"
     ]
    },
    {
     "name": "stdout",
     "output_type": "stream",
     "text": [
      "\t\tCluster successfully killed\n",
      "\tAttempting to kill mycluster1 with CPU processes: [8513, 8515, 8517]\n",
      "\t\tCluster successfully killed\n",
      "\tAttempting to kill mycluster2 with CPU processes: [8573, 8575]\n",
      "\t\tCluster successfully killed\n",
      "All clusters have been killed\n",
      "\n",
      "\n",
      "Multiple Cluster Engine shut down at 2018-02-24 01:01:01.541443\n",
      "Total run time is 0.9666666666666667 minutes\n",
      "\n"
     ]
    }
   ],
   "source": [
    "def fun_func(file_name, save_string_to_file):\n",
    "    with open(file_name, 'a') as f:\n",
    "        f.write(save_string_to_file)\n",
    "\n",
    "mce_args = {\n",
    "    'cluster_name': 'mycluster',\n",
    "    'n_cpus_list': [4, 3, 2], # 1st cluster is always the largest or equal to the other clusters\n",
    "    'file_names': ['{}.tmp'.format(i) for i in range(10)],\n",
    "    'function_to_process': fun_func,\n",
    "    'function_args_dict': {'save_string_to_file': 'pee-a-boo!'}\n",
    "    }\n",
    "\n",
    "mce = MultipleClusterEnginePrototype(**mce_args)\n",
    "#mce.start_all_clusters()\n",
    "mce.main()"
   ]
  },
  {
   "cell_type": "code",
   "execution_count": null,
   "metadata": {
    "scrolled": true
   },
   "outputs": [],
   "source": [
    "mce.run_clusters()"
   ]
  },
  {
   "cell_type": "code",
   "execution_count": null,
   "metadata": {},
   "outputs": [],
   "source": []
  },
  {
   "cell_type": "code",
   "execution_count": 22,
   "metadata": {},
   "outputs": [],
   "source": [
    "!cat 1.tmp"
   ]
  },
  {
   "cell_type": "code",
   "execution_count": 4,
   "metadata": {},
   "outputs": [
    {
     "data": {
      "text/plain": [
       "defaultdict(list,\n",
       "            {0: [<AsyncMapResult: fun_func:finished>,\n",
       "              <AsyncMapResult: fun_func:finished>,\n",
       "              <AsyncMapResult: fun_func:finished>,\n",
       "              <AsyncMapResult: fun_func:finished>],\n",
       "             1: [<AsyncMapResult: fun_func:finished>,\n",
       "              <AsyncMapResult: fun_func:finished>,\n",
       "              <AsyncMapResult: fun_func:finished>],\n",
       "             2: [<AsyncMapResult: fun_func:finished>,\n",
       "              <AsyncMapResult: fun_func:finished>,\n",
       "              <AsyncMapResult: fun_func:finished>]})"
      ]
     },
     "execution_count": 4,
     "metadata": {},
     "output_type": "execute_result"
    }
   ],
   "source": [
    "mce.async_results_dict"
   ]
  },
  {
   "cell_type": "code",
   "execution_count": 87,
   "metadata": {},
   "outputs": [],
   "source": [
    "temp = mce.async_results_dict[0][-1]"
   ]
  },
  {
   "cell_type": "code",
   "execution_count": 14,
   "metadata": {
    "scrolled": false
   },
   "outputs": [
    {
     "name": "stdout",
     "output_type": "stream",
     "text": [
      "\n",
      "Attempting to kill all clusters\n",
      "All clusters have been killed\n",
      "\n"
     ]
    }
   ],
   "source": [
    "mce.kill_all_clusters()\n",
    "#!ipcluster stop --profile=mycluster2"
   ]
  },
  {
   "cell_type": "code",
   "execution_count": 16,
   "metadata": {},
   "outputs": [
    {
     "name": "stdout",
     "output_type": "stream",
     "text": [
      "2018-02-24 00:59:17.380 [IPClusterStop] CRITICAL | Could not read pid file, cluster is probably not running.\r\n"
     ]
    }
   ],
   "source": [
    "!ipcluster stop --profile=mycluster1"
   ]
  },
  {
   "cell_type": "code",
   "execution_count": null,
   "metadata": {},
   "outputs": [],
   "source": []
  },
  {
   "cell_type": "code",
   "execution_count": null,
   "metadata": {},
   "outputs": [],
   "source": []
  },
  {
   "cell_type": "code",
   "execution_count": null,
   "metadata": {
    "collapsed": true
   },
   "outputs": [],
   "source": [
    "class MultipleClusterEngine(object):\n",
    "    def __init__(self, **kwargs):\n",
    "        self.functions_to_run = functions_to_run\n",
    "        self.file_names = file_names\n",
    "        self.RAM_limit_in_GB = pass\n",
    "        # how to deal with other args/objects that functions might need\n",
    "        self.mce_job_name = None\n",
    "        pass\n",
    "   \n",
    "\n",
    "    def memory_profiler():\n",
    "        pass # if all clusters are dead, then raise Error with a message\n",
    "    \n",
    "    \n",
    "    def early_kill():\n",
    "        pass # write file to failure disk, maybe also cluster i and num_cpus\n",
    "            \n",
    "    def running_cluster():\n",
    "        # Create asynchronous object and cycle\n",
    "        my_async_results_list = defaultdict(list)\n",
    "        \n",
    "        small_file_ctr = 1 # determine if you want to have queue or differently ordered queue\n",
    "        big_file_ctr = 0\n",
    "\n",
    "        for ith_file in tqdm(range(len(file_names))):\n",
    "            for jth_cluster in itertools.cycle(range(len(load_balanced_view_list))): # infinite loop\n",
    "                time.sleep(1) # hard coded delay time; want to do expected log time lag / number of clusters\n",
    "                ### insert code here to kill cluster if RAM usage too great, if possible log which file it was processing;\n",
    "                ### it has to do a global search of all clusters' RAM usage\n",
    "                ### would need a dictionary here to remember which cluster has which file; write to disk\n",
    "                ### profiler would also write to disk CPU usage what level\n",
    "\n",
    "                if (not my_async_results_list[jth_cluster][-1:] or my_async_results_list[jth_cluster][-1].done()): # check if cluster i is available                       \n",
    "                    # if necessary, recreate engine here\n",
    "                    if jth_cluster == 0: # Send large files to large cluster (ALWAYS has id == 0)\n",
    "                        index = big_file_ctr\n",
    "                        big_file_ctr += 1\n",
    "                    else: # Send small files to small clusters (ALWAYS have id > 0)\n",
    "                        index = -small_file_ctr\n",
    "                        small_file_ctr += 1\n",
    "                                              \n",
    "                                     \n",
    "                    # clear cluster memory \n",
    "\n",
    "                    ### insert code to write results to file--it will only have start times, no end times\n",
    "                    async_object = load_balanced_view_list[jth_cluster].map_async(\n",
    "                            mapper_reducer_function, # function name\n",
    "                            [file_names[index]] * len(client_list[jth_cluster].ids), # file name, assumes first argument is always file name\n",
    "                            # [len(client_list[i].ids)] * len(client_list[i].ids), # number of CPUs, assumes second argument is always number of CPUs\n",
    "                            #  client_list[i].ids # CPU ids, assumes third argument is always CPU id; actually turn into kwargs\n",
    "                             # [output_folder_name] * len(client_list[i].ids) # assumes fourth argument is output directory\n",
    "                            [function_args_dict] * len(client_list[jth_cluster].ids)\n",
    "                            )\n",
    "                                              \n",
    "                    my_async_results_list[jth_cluster].append(async_object)\n",
    "                    print(\"{} is the {}th file and is sent to cluster {} for processing\".format(file_names[index], ith_file, i))\n",
    "                    break # break out of inner loop to determine if other clusters are available\n",
    "        # my_async_results_list; save to disk for later inspection?\n",
    "                            \n",
    "    def main():\n",
    "        start_time = now()\n",
    "        self.spool_engines()\n",
    "        self.running_clusters()\n",
    "        self.shutdown_clusters()\n",
    "        print('Total Run Time is {}'.format(now() - start_time))"
   ]
  },
  {
   "cell_type": "code",
   "execution_count": null,
   "metadata": {
    "collapsed": true
   },
   "outputs": [],
   "source": [
    "; if cluster is killed, then cannot trust jth_cluster index--instead of load_balanced_list, use load_balanced_dict"
   ]
  },
  {
   "cell_type": "code",
   "execution_count": null,
   "metadata": {
    "collapsed": true
   },
   "outputs": [],
   "source": [
    "# RAM writer and also progress writer and failre writer\n",
    "# figure out queue vs deque; deque is better"
   ]
  },
  {
   "cell_type": "code",
   "execution_count": null,
   "metadata": {
    "collapsed": true
   },
   "outputs": [],
   "source": []
  },
  {
   "cell_type": "code",
   "execution_count": null,
   "metadata": {
    "collapsed": true
   },
   "outputs": [],
   "source": []
  },
  {
   "cell_type": "code",
   "execution_count": null,
   "metadata": {
    "collapsed": true
   },
   "outputs": [],
   "source": []
  },
  {
   "cell_type": "code",
   "execution_count": null,
   "metadata": {
    "collapsed": true
   },
   "outputs": [],
   "source": []
  },
  {
   "cell_type": "code",
   "execution_count": null,
   "metadata": {
    "collapsed": true
   },
   "outputs": [],
   "source": [
    "# Choose appropriate files folder, based on emitter type\n",
    "file_names = ['invoices0.txt', 'invoices1.txt']\n",
    "num_files = len(file_names)\n",
    "print 'There are ' + str(num_files) + ' files to process'\n",
    "assert num_files > 0, 'File list empty'\n",
    "\n",
    "# Define global computing parameters\n",
    "# There is one big cluster for 50gb+ files (if present) and two clusters for smaller files.\n",
    "cpu_list = [1,1]\n",
    "if len(arr0):\n",
    "    cpu_list = arr0\n",
    "num_clusters = len(cpu_list)\n",
    "client_list = []\n",
    "load_balanced_view_list = []\n",
    "\n",
    "# Start your engines!\n",
    "for i in range(num_clusters):\n",
    "    client_list.append(start_cluster(i, cpu_list[i]))\n",
    "    load_balanced_view_list.append(client_list[i].load_balanced_view())\n",
    "\n",
    "# Create asynchronous object and cycle\n",
    "my_async_results_list = defaultdict(list)\n",
    "cluster_index = itertools.cycle(range(len(load_balanced_view_list)))\n",
    "\n",
    "# Progress check!\n",
    "for i in range(num_clusters):\n",
    "    print 'Client ids for cluster ' + str(i) + ': ' + str(client_list[i].ids)\n",
    "print str(num_clusters) + ' clusters activated!'\n",
    "print '\\n Client connection checkpoint reached!'\n",
    "\n",
    "# Record total processing time\n",
    "now = datetime.today()\n",
    "\n",
    "# Distribute small and large files to small and large clusters\n",
    "small_file_ctr = 1\n",
    "big_file_ctr = 0\n",
    "for file_idx in range(len(file_names)):\n",
    "    for i in cluster_index: # infinite loop\n",
    "        time.sleep(1) # hard coded delay time\n",
    "                    \n",
    "        if (not my_async_results_list[i][-1:] or my_async_results_list[i][-1].done()): # check if cluster i is available           \n",
    "            num_cpus = len(client_list[i].ids)\n",
    "        \n",
    "            # Must de-bug cluster shutdown code\n",
    "            kill_cluster(i, client_list)\n",
    "                \n",
    "            #For de-bugging\n",
    "            print 'stopped cluster '+ str(i)\n",
    "            client_list[i] = start_cluster(i, num_cpus)\n",
    "            load_balanced_view_list[i] = client_list[i].load_balanced_view()\n",
    "            \n",
    "            # Send large files to large cluster (ALWAYS has id == 0)\n",
    "            if i == 0: \n",
    "                index = big_file_ctr\n",
    "                big_file_ctr += 1\n",
    "            # Send small files to small clusters (ALWAYS have id > 0)\n",
    "            else:    \n",
    "                index = -small_file_ctr\n",
    "                small_file_ctr += 1\n",
    "                \n",
    "            print \"file is {}, {}\".format(file_names[index], index)\n",
    "            temp = load_balanced_view_list[i].map_async(\n",
    "                    process_file, # function name\n",
    "                    [file_names[index]] * len(client_list[i].ids), # file name\n",
    "                    [len(client_list[i].ids)] * len(client_list[i].ids), # number of CPUs\n",
    "                    client_list[i].ids # CPU ids\n",
    "                    ) \n",
    "            my_async_results_list[i].append(temp)\n",
    "            print \"File is sent to cluster {}\".format(i) \n",
    "            break\n",
    "        \n",
    "# kill all existing clusters\n",
    "for i in range(len(client_list)):\n",
    "    kill_cluster(i, client_list)        \n",
    "\n",
    "small_file_ctr -= 1\n",
    "with open('time_stamp.txt', 'a') as f:\n",
    "    f.write(str(datetime.today()) + '\\n')\n",
    "    to_write = 'Processed ' + str(num_files) + ' files in ' \\\n",
    "            + str((datetime.today() - now).total_seconds() / 60) + ' minutes\\n'\n",
    "    to_write += 'Used ' + str(cpu_list[0]) + ' cpus to process ' + str(big_file_ctr) + \\\n",
    "                    ' big files and ' \n",
    "    # If there are multiple clusters, specify number of small files processed by small cluster\n",
    "    if len(cpu_list) > 1: \n",
    "        to_write += str(cpu_list[1]) + ' cpus to process ' + \\\n",
    "                    str(small_file_ctr) + ' small files.\\n'\n",
    "    to_write += 'A total of ' + str(len(cpu_list)) + ' clusters were used.\\n'\n",
    "    if len(cpu_list) > 1: \n",
    "        to_write += 'Expect ' + str(big_file_ctr * cpu_list[0] + small_file_ctr * cpu_list[1]) + \\\n",
    "                    ' files in processed folder.\\n\\n'\n",
    "    else:\n",
    "        to_write += 'Expect ' + str(big_file_ctr * cpu_list[0]) + \\\n",
    "                    ' files in processed folder.\\n\\n'\n",
    "    f.write(to_write)\n",
    "    \n",
    "print 'Done processing!'"
   ]
  }
 ],
 "metadata": {
  "kernelspec": {
   "display_name": "Python 3",
   "language": "python",
   "name": "python3"
  },
  "language_info": {
   "codemirror_mode": {
    "name": "ipython",
    "version": 3
   },
   "file_extension": ".py",
   "mimetype": "text/x-python",
   "name": "python",
   "nbconvert_exporter": "python",
   "pygments_lexer": "ipython3",
   "version": "3.6.4"
  }
 },
 "nbformat": 4,
 "nbformat_minor": 2
}
