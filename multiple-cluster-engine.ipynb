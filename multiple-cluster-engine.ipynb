{
 "cells": [
  {
   "cell_type": "code",
   "execution_count": null,
   "metadata": {
    "collapsed": true
   },
   "outputs": [],
   "source": [
    "!ipcluster start --n=4 --profile=mycluster1"
   ]
  },
  {
   "cell_type": "code",
   "execution_count": null,
   "metadata": {
    "collapsed": true
   },
   "outputs": [],
   "source": [
    "# figure out the start and kill cluster at the end\n",
    "# threading for RAM usage"
   ]
  },
  {
   "cell_type": "code",
   "execution_count": null,
   "metadata": {
    "collapsed": true
   },
   "outputs": [],
   "source": []
  },
  {
   "cell_type": "code",
   "execution_count": null,
   "metadata": {
    "collapsed": true
   },
   "outputs": [],
   "source": [
    "def decorator_1(func):\n",
    "    def func_wrapper(x):\n",
    "        print('dec1')\n",
    "        func(x)\n",
    "        print('dec1')\n",
    "    return func_wrapper\n",
    "\n",
    "def decorator_2(func):\n",
    "    def func_wrapper(x):\n",
    "        print('dec2')\n",
    "        func(x)\n",
    "        print('dec2')\n",
    "    return func_wrapper\n",
    "\n",
    "@decorator_2\n",
    "@decorator_1\n",
    "def function_a(x):\n",
    "    print(x)\n",
    "\n",
    "function_a(1)"
   ]
  },
  {
   "cell_type": "code",
   "execution_count": 6,
   "metadata": {},
   "outputs": [
    {
     "data": {
      "text/plain": [
       "0"
      ]
     },
     "execution_count": 6,
     "metadata": {},
     "output_type": "execute_result"
    }
   ],
   "source": [
    "import os\n",
    "\n",
    "os.system(\"ipcluster start --n=4 --profile=mycluster0 --daemonize\")"
   ]
  },
  {
   "cell_type": "code",
   "execution_count": null,
   "metadata": {
    "scrolled": true
   },
   "outputs": [],
   "source": []
  },
  {
   "cell_type": "code",
   "execution_count": null,
   "metadata": {},
   "outputs": [],
   "source": []
  },
  {
   "cell_type": "code",
   "execution_count": null,
   "metadata": {},
   "outputs": [],
   "source": []
  },
  {
   "cell_type": "code",
   "execution_count": null,
   "metadata": {
    "collapsed": true
   },
   "outputs": [],
   "source": []
  },
  {
   "cell_type": "code",
   "execution_count": null,
   "metadata": {
    "collapsed": true
   },
   "outputs": [],
   "source": [
    "# engine "
   ]
  },
  {
   "cell_type": "code",
   "execution_count": null,
   "metadata": {
    "collapsed": true
   },
   "outputs": [],
   "source": []
  },
  {
   "cell_type": "code",
   "execution_count": null,
   "metadata": {
    "collapsed": true
   },
   "outputs": [],
   "source": [
    "# each cluster will have to decorate the mapper/reducer?"
   ]
  },
  {
   "cell_type": "code",
   "execution_count": null,
   "metadata": {
    "collapsed": true
   },
   "outputs": [],
   "source": [
    "after each map/reducer step, use gc.collect()\n",
    "# figure out how to send to larger cluster? It appears that's not as important.\n",
    "# Previously, we sent large files to large cluster because of making sure RAM usage is fine.\n",
    "# Now, the cluster will kill itself if RAM usage is exceeded. However, now loss of cluster.\n",
    "# Hmm, ideally still sent large file to large cluster"
   ]
  },
  {
   "cell_type": "code",
   "execution_count": null,
   "metadata": {
    "collapsed": true
   },
   "outputs": [],
   "source": [
    "# RAM usage is heavier in Python 3 than Python 2; though Python 3 memory management is better"
   ]
  },
  {
   "cell_type": "code",
   "execution_count": null,
   "metadata": {
    "collapsed": true
   },
   "outputs": [],
   "source": []
  },
  {
   "cell_type": "code",
   "execution_count": null,
   "metadata": {
    "collapsed": true
   },
   "outputs": [],
   "source": [
    "# suppose we have equal sized clusters, how to distribute load?\n",
    "# write about where to do it queue or have large/small cluster distinction"
   ]
  },
  {
   "cell_type": "code",
   "execution_count": null,
   "metadata": {
    "collapsed": true
   },
   "outputs": [],
   "source": [
    "# SSD for parallel reading (not HDD); determine if you are IO constrained"
   ]
  },
  {
   "cell_type": "code",
   "execution_count": 19,
   "metadata": {
    "collapsed": true
   },
   "outputs": [],
   "source": [
    "# MCE works on files. Hence, if you don't have any datafiles, then just create some empty files"
   ]
  },
  {
   "cell_type": "code",
   "execution_count": null,
   "metadata": {
    "collapsed": true
   },
   "outputs": [],
   "source": []
  },
  {
   "cell_type": "code",
   "execution_count": 14,
   "metadata": {},
   "outputs": [],
   "source": [
    "import time\n",
    "import os\n",
    "import ipyparallel as ipp\n",
    "\n",
    "        \n",
    "class MultipleClusterEnginePrototype(object):\n",
    "    def __init__(self, cluster_name, n_cpus_list): # always put it in as a dictionary\n",
    "        self.cluster_name = cluster_name\n",
    "        self.n_cpus_list = n_cpus_list\n",
    "        self.client_dict = {}\n",
    "        \n",
    "    def start_cluster(self, n_cpus, cluster_id):\n",
    "        print('\\tAttempting to start {}{} with {} CPUs'.format(self.cluster_name, cluster_id, n_cpus))\n",
    "        os.system(\"ipcluster start --n={} --profile={}{} --daemonize\".format(\n",
    "            n_cpus, self.cluster_name, cluster_id)) # should deprecate to use a safer bash call\n",
    "\n",
    "        attempt_ctr = 0 \n",
    "        while attempt_ctr < 3: # Attempt to connect to client 3 times\n",
    "            time.sleep(10) # hard coded\n",
    "            try:\n",
    "                client = ipp.Client(profile='{}{}'.format(self.cluster_name, cluster_id))\n",
    "            except ipp.error.TimeoutError:\n",
    "                attempt_ctr += 1\n",
    "            else:\n",
    "                print('\\t\\tCPU processes ready for action: {}'.format(client[:].apply_async(os.getpid).get()))\n",
    "                return client\n",
    "    \n",
    "    def start_all_clusters(self):\n",
    "        print('\\nAttempting to start all clusters')\n",
    "        for cluster_id, n_cpus in enumerate(self.n_cpus_list):\n",
    "            self.client_dict[cluster_id] = self.start_cluster(n_cpus, cluster_id)\n",
    "        print('All clusters started\\n')\n",
    "        \n",
    "    def kill_cluster(self, cluster_id): # use better arguments\n",
    "        # client = client_list[cluster_id]\n",
    "        print('\\tAttempting to kill {}{} with CPU processes: {}:'.format(\n",
    "            self.cluster_name, cluster_id, self.client_dict[cluster_id][:].apply_async(os.getpid).get()))\n",
    "        # client.purge_everything()\n",
    "        self.client_dict[cluster_id].close()\n",
    "        os.system('ipcluster stop --profile={}{}'.format(self.cluster_name, cluster_id))\n",
    "        print('\\t\\tCluster successfully killed')\n",
    "        time.sleep(5) # hard-coded\n",
    "        \n",
    "    def kill_all_clusters(self):\n",
    "        print('\\nAttempting to kill all clusters')\n",
    "        for cluster_id in self.client_dict:\n",
    "            self.kill_cluster(cluster_id)\n",
    "        print('All clusters have been killed\\n')"
   ]
  },
  {
   "cell_type": "code",
   "execution_count": 15,
   "metadata": {},
   "outputs": [],
   "source": [
    "mce_args = {\n",
    "    'cluster_name': 'mycluster',\n",
    "    'n_cpus_list': [4, 3, 2], # 1st cluster is always the largest or equal to the other clusters\n",
    "    }\n",
    "\n",
    "mce = MultipleClusterEnginePrototype(**mce_args)"
   ]
  },
  {
   "cell_type": "code",
   "execution_count": 16,
   "metadata": {
    "scrolled": false
   },
   "outputs": [
    {
     "name": "stdout",
     "output_type": "stream",
     "text": [
      "\n",
      "Attempting to start all clusters\n",
      "\tAttempting to start mycluster0 with 4 CPUs\n",
      "\t\tCPU processes ready for action: [5029, 5031, 5033, 5037]\n",
      "\tAttempting to start mycluster1 with 3 CPUs\n",
      "\t\tCPU processes ready for action: [5103, 5100, 5102]\n",
      "\tAttempting to start mycluster2 with 2 CPUs\n",
      "\t\tCPU processes ready for action: [5160, 5162]\n",
      "All clusters started\n",
      "\n",
      "\n",
      "Attempting to kill all clusters\n",
      "\tAttempting to kill mycluster0 with CPU processes: [5029, 5031, 5033, 5037]:\n",
      "\t\tCluster successfully killed\n",
      "\tAttempting to kill mycluster1 with CPU processes: [5103, 5100, 5102]:\n",
      "\t\tCluster successfully killed\n",
      "\tAttempting to kill mycluster2 with CPU processes: [5160, 5162]:\n",
      "\t\tCluster successfully killed\n",
      "All clusters have been killed\n",
      "\n"
     ]
    }
   ],
   "source": [
    "mce.start_all_clusters()"
   ]
  },
  {
   "cell_type": "code",
   "execution_count": 127,
   "metadata": {
    "scrolled": false
   },
   "outputs": [
    {
     "name": "stdout",
     "output_type": "stream",
     "text": [
      "2018-02-23 23:35:58.458 [IPClusterStop] Stopping cluster [pid=3730] with [signal=<Signals.SIGINT: 2>]\r\n"
     ]
    }
   ],
   "source": [
    "mce.kill_all_clusters()\n",
    "#!ipcluster stop --profile=mycluster2"
   ]
  },
  {
   "cell_type": "code",
   "execution_count": null,
   "metadata": {},
   "outputs": [],
   "source": []
  },
  {
   "cell_type": "code",
   "execution_count": null,
   "metadata": {},
   "outputs": [],
   "source": []
  },
  {
   "cell_type": "code",
   "execution_count": null,
   "metadata": {},
   "outputs": [],
   "source": [
    "import os\n",
    "import ipyparallel as ipp\n",
    "\n",
    "\n",
    "# wait 10 seconds before running this cell after starting the cluster\n",
    "client = ipp.Client(profile='mycluster0')\n",
    "\n",
    "print(client.ids)\n",
    "ar = client[:].apply_async(os.getpid)\n",
    "ar.get_dict()\n",
    "# get the PIDs or UUIDs\n",
    "load_balanced_view = client.load_balanced_view()"
   ]
  },
  {
   "cell_type": "code",
   "execution_count": null,
   "metadata": {},
   "outputs": [],
   "source": []
  },
  {
   "cell_type": "code",
   "execution_count": null,
   "metadata": {},
   "outputs": [],
   "source": []
  },
  {
   "cell_type": "code",
   "execution_count": null,
   "metadata": {
    "collapsed": true
   },
   "outputs": [],
   "source": [
    "class MultipleClusterEngine(object):\n",
    "    def __init__(self, **kwargs):\n",
    "        self.n_clusters = n_clusters\n",
    "        self.n_cpus = n_cpus\n",
    "        self.functions_to_run = functions_to_run\n",
    "        self.file_names = file_names\n",
    "        self.RAM_limit_in_GB = pass\n",
    "        # how to deal with other args/objects that functions might need\n",
    "        self.cluster\n",
    "        self.mce_job_name = None\n",
    "        pass\n",
    "   \n",
    "    def start_cluster(cluster_id, num_cpus):\n",
    "        import time\n",
    "        import os\n",
    "        os.system(\"ipcluster start --n={} --profile={} --daemonize\".format(\n",
    "            num_cpus, 'mycluster' + str(cluster_id))) # should deprecate to use a safer bash call\n",
    "\n",
    "        attempt_ctr = 0 \n",
    "        while attempt_ctr < 3: # Attempt to connect to client 3 times\n",
    "            time.sleep(10)\n",
    "            try:\n",
    "                client = ipp.Client(profile='mycluster' + str(cluster_id))\n",
    "            except ipp.error.TimeoutError:\n",
    "                attempt_ctr += 1\n",
    "            else:\n",
    "                print('\\nstarted CPU processes: {}:'.format(client[:].apply_async(os.getpid).get()))\n",
    "                return client\n",
    "            # if there is any other error other than TimeoutError, then the error will be raised\n",
    "\n",
    "    def kill_cluster(cluster_id, client_list):\n",
    "        import time\n",
    "        import os\n",
    "        client = client_list[cluster_id]\n",
    "        print('attempting to kill CPU processes: {}:'.format(client[:].apply_async(os.getpid).get()))\n",
    "        #client.purge_everything()\n",
    "        client.close()\n",
    "        cluster = \"mycluster{}\".format(cluster_id)\n",
    "        os.system('ipcluster stop --profile=mycluster{}'.format(str(cluster_id)))\n",
    "        time.sleep(10)\n",
    "    \n",
    "    def spool_engines():\n",
    "        for i in range(num_clusters):\n",
    "            client_list.append(start_cluster(i, cpu_list[i]))\n",
    "            load_balanced_view_list.append(client_list[i].load_balanced_view())\n",
    "\n",
    "    def memory_profiler():\n",
    "        pass # if all clusters are dead, then raise Error with a message\n",
    "    \n",
    "    \n",
    "    def early_kill():\n",
    "        pass # write file to failure disk, maybe also cluster i and num_cpus\n",
    "            \n",
    "    def running_cluster():\n",
    "        # Create asynchronous object and cycle\n",
    "        my_async_results_list = defaultdict(list)\n",
    "        \n",
    "        small_file_ctr = 1 # determine if you want to have queue or differently ordered queue\n",
    "        big_file_ctr = 0\n",
    "\n",
    "        for ith_file in tqdm(range(len(file_names))):\n",
    "            for jth_cluster in itertools.cycle(range(len(load_balanced_view_list))): # infinite loop\n",
    "                time.sleep(1) # hard coded delay time; want to do expected log time lag / number of clusters\n",
    "                ### insert code here to kill cluster if RAM usage too great, if possible log which file it was processing;\n",
    "                ### it has to do a global search of all clusters' RAM usage\n",
    "                ### would need a dictionary here to remember which cluster has which file; write to disk\n",
    "                ### profiler would also write to disk CPU usage what level\n",
    "\n",
    "                if (not my_async_results_list[jth_cluster][-1:] or my_async_results_list[jth_cluster][-1].done()): # check if cluster i is available                       \n",
    "                    # if necessary, recreate engine here\n",
    "                    if jth_cluster == 0: # Send large files to large cluster (ALWAYS has id == 0)\n",
    "                        index = big_file_ctr\n",
    "                        big_file_ctr += 1\n",
    "                    else: # Send small files to small clusters (ALWAYS have id > 0)\n",
    "                        index = -small_file_ctr\n",
    "                        small_file_ctr += 1\n",
    "                                              \n",
    "                                     \n",
    "                    # clear cluster memory \n",
    "\n",
    "                    ### insert code to write results to file--it will only have start times, no end times\n",
    "                    async_object = load_balanced_view_list[jth_cluster].map_async(\n",
    "                            mapper_reducer_function, # function name\n",
    "                            [file_names[index]] * len(client_list[jth_cluster].ids), # file name, assumes first argument is always file name\n",
    "                            # [len(client_list[i].ids)] * len(client_list[i].ids), # number of CPUs, assumes second argument is always number of CPUs\n",
    "                            #  client_list[i].ids # CPU ids, assumes third argument is always CPU id; actually turn into kwargs\n",
    "                             # [output_folder_name] * len(client_list[i].ids) # assumes fourth argument is output directory\n",
    "                            [function_args_dict] * len(client_list[jth_cluster].ids)\n",
    "                            )\n",
    "                                              \n",
    "                    my_async_results_list[jth_cluster].append(async_object)\n",
    "                    print(\"{} is the {}th file and is sent to cluster {} for processing\".format(file_names[index], ith_file, i))\n",
    "                    break # break out of inner loop to determine if other clusters are available\n",
    "        # my_async_results_list; save to disk for later inspection?\n",
    "                            \n",
    "    def shutdown_clusters():\n",
    "        pass\n",
    "        \n",
    "    def main():\n",
    "        start_time = now()\n",
    "        self.spool_engines()\n",
    "        self.running_clusters()\n",
    "        self.shutdown_clusters()\n",
    "        print('Total Run Time is {}'.format(now() - start_time))"
   ]
  },
  {
   "cell_type": "code",
   "execution_count": null,
   "metadata": {
    "collapsed": true
   },
   "outputs": [],
   "source": [
    "; if cluster is killed, then cannot trust jth_cluster index--instead of load_balanced_list, use load_balanced_dict"
   ]
  },
  {
   "cell_type": "code",
   "execution_count": null,
   "metadata": {
    "collapsed": true
   },
   "outputs": [],
   "source": [
    "# RAM writer and also progress writer and failre writer\n",
    "# figure out queue vs deque; deque is better"
   ]
  },
  {
   "cell_type": "code",
   "execution_count": null,
   "metadata": {
    "collapsed": true
   },
   "outputs": [],
   "source": []
  },
  {
   "cell_type": "code",
   "execution_count": null,
   "metadata": {
    "collapsed": true
   },
   "outputs": [],
   "source": [
    "mapper_reducer_function(**kwargs)"
   ]
  },
  {
   "cell_type": "code",
   "execution_count": null,
   "metadata": {
    "collapsed": true
   },
   "outputs": [],
   "source": [
    "async_object = load_balanced_view_list[i].map_async(\n",
    "                    function_name, \n",
    ") \n",
    "my_async_results_list[i].append(async_object)"
   ]
  },
  {
   "cell_type": "code",
   "execution_count": null,
   "metadata": {
    "collapsed": true
   },
   "outputs": [],
   "source": []
  },
  {
   "cell_type": "code",
   "execution_count": null,
   "metadata": {
    "collapsed": true
   },
   "outputs": [],
   "source": []
  },
  {
   "cell_type": "code",
   "execution_count": null,
   "metadata": {
    "collapsed": true
   },
   "outputs": [],
   "source": []
  },
  {
   "cell_type": "code",
   "execution_count": null,
   "metadata": {
    "collapsed": true
   },
   "outputs": [],
   "source": [
    "# Choose appropriate files folder, based on emitter type\n",
    "file_names = ['invoices0.txt', 'invoices1.txt']\n",
    "num_files = len(file_names)\n",
    "print 'There are ' + str(num_files) + ' files to process'\n",
    "assert num_files > 0, 'File list empty'\n",
    "\n",
    "# Define global computing parameters\n",
    "# There is one big cluster for 50gb+ files (if present) and two clusters for smaller files.\n",
    "cpu_list = [1,1]\n",
    "if len(arr0):\n",
    "    cpu_list = arr0\n",
    "num_clusters = len(cpu_list)\n",
    "client_list = []\n",
    "load_balanced_view_list = []\n",
    "\n",
    "# Start your engines!\n",
    "for i in range(num_clusters):\n",
    "    client_list.append(start_cluster(i, cpu_list[i]))\n",
    "    load_balanced_view_list.append(client_list[i].load_balanced_view())\n",
    "\n",
    "# Create asynchronous object and cycle\n",
    "my_async_results_list = defaultdict(list)\n",
    "cluster_index = itertools.cycle(range(len(load_balanced_view_list)))\n",
    "\n",
    "# Progress check!\n",
    "for i in range(num_clusters):\n",
    "    print 'Client ids for cluster ' + str(i) + ': ' + str(client_list[i].ids)\n",
    "print str(num_clusters) + ' clusters activated!'\n",
    "print '\\n Client connection checkpoint reached!'\n",
    "\n",
    "# Record total processing time\n",
    "now = datetime.today()\n",
    "\n",
    "# Distribute small and large files to small and large clusters\n",
    "small_file_ctr = 1\n",
    "big_file_ctr = 0\n",
    "for file_idx in range(len(file_names)):\n",
    "    for i in cluster_index: # infinite loop\n",
    "        time.sleep(1) # hard coded delay time\n",
    "                    \n",
    "        if (not my_async_results_list[i][-1:] or my_async_results_list[i][-1].done()): # check if cluster i is available           \n",
    "            num_cpus = len(client_list[i].ids)\n",
    "        \n",
    "            # Must de-bug cluster shutdown code\n",
    "            kill_cluster(i, client_list)\n",
    "                \n",
    "            #For de-bugging\n",
    "            print 'stopped cluster '+ str(i)\n",
    "            client_list[i] = start_cluster(i, num_cpus)\n",
    "            load_balanced_view_list[i] = client_list[i].load_balanced_view()\n",
    "            \n",
    "            # Send large files to large cluster (ALWAYS has id == 0)\n",
    "            if i == 0: \n",
    "                index = big_file_ctr\n",
    "                big_file_ctr += 1\n",
    "            # Send small files to small clusters (ALWAYS have id > 0)\n",
    "            else:    \n",
    "                index = -small_file_ctr\n",
    "                small_file_ctr += 1\n",
    "                \n",
    "            print \"file is {}, {}\".format(file_names[index], index)\n",
    "            temp = load_balanced_view_list[i].map_async(\n",
    "                    process_file, # function name\n",
    "                    [file_names[index]] * len(client_list[i].ids), # file name\n",
    "                    [len(client_list[i].ids)] * len(client_list[i].ids), # number of CPUs\n",
    "                    client_list[i].ids # CPU ids\n",
    "                    ) \n",
    "            my_async_results_list[i].append(temp)\n",
    "            print \"File is sent to cluster {}\".format(i) \n",
    "            break\n",
    "        \n",
    "# kill all existing clusters\n",
    "for i in range(len(client_list)):\n",
    "    kill_cluster(i, client_list)        \n",
    "\n",
    "small_file_ctr -= 1\n",
    "with open('time_stamp.txt', 'a') as f:\n",
    "    f.write(str(datetime.today()) + '\\n')\n",
    "    to_write = 'Processed ' + str(num_files) + ' files in ' \\\n",
    "            + str((datetime.today() - now).total_seconds() / 60) + ' minutes\\n'\n",
    "    to_write += 'Used ' + str(cpu_list[0]) + ' cpus to process ' + str(big_file_ctr) + \\\n",
    "                    ' big files and ' \n",
    "    # If there are multiple clusters, specify number of small files processed by small cluster\n",
    "    if len(cpu_list) > 1: \n",
    "        to_write += str(cpu_list[1]) + ' cpus to process ' + \\\n",
    "                    str(small_file_ctr) + ' small files.\\n'\n",
    "    to_write += 'A total of ' + str(len(cpu_list)) + ' clusters were used.\\n'\n",
    "    if len(cpu_list) > 1: \n",
    "        to_write += 'Expect ' + str(big_file_ctr * cpu_list[0] + small_file_ctr * cpu_list[1]) + \\\n",
    "                    ' files in processed folder.\\n\\n'\n",
    "    else:\n",
    "        to_write += 'Expect ' + str(big_file_ctr * cpu_list[0]) + \\\n",
    "                    ' files in processed folder.\\n\\n'\n",
    "    f.write(to_write)\n",
    "    \n",
    "print 'Done processing!'"
   ]
  }
 ],
 "metadata": {
  "kernelspec": {
   "display_name": "Python 3",
   "language": "python",
   "name": "python3"
  },
  "language_info": {
   "codemirror_mode": {
    "name": "ipython",
    "version": 3
   },
   "file_extension": ".py",
   "mimetype": "text/x-python",
   "name": "python",
   "nbconvert_exporter": "python",
   "pygments_lexer": "ipython3",
   "version": "3.6.4"
  }
 },
 "nbformat": 4,
 "nbformat_minor": 2
}
